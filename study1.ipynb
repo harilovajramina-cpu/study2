{
 "cells": [
  {
   "cell_type": "code",
   "execution_count": null,
   "id": "8b7f2b9d",
   "metadata": {
    "notebookRunGroups": {
     "groupValue": "1"
    }
   },
   "outputs": [],
   "source": [
    "from dataclasses import dataclass\n",
    "from typing import Optional, Literal"
   ]
  },
  {
   "cell_type": "code",
   "execution_count": null,
   "id": "9c81c7e1",
   "metadata": {},
   "outputs": [],
   "source": []
  },
  {
   "cell_type": "code",
   "execution_count": null,
   "id": "d3d539a5",
   "metadata": {},
   "outputs": [],
   "source": [
    "@dataclass \n",
    "class Person:\n",
    "    name: Optional[str] = None\n",
    "    gender: Optional[Literal[\"male\",\"female\"]] = None\n",
    "    height:Optional[float] = None\n",
    "    country: Optional[str] = None\n",
    "    weight: Optional[float] = None\n",
    "    age: Optional[int] = None"
   ]
  },
  {
   "cell_type": "code",
   "execution_count": null,
   "id": "03f90a7a",
   "metadata": {},
   "outputs": [],
   "source": []
  },
  {
   "cell_type": "code",
   "execution_count": null,
   "id": "6378946d",
   "metadata": {},
   "outputs": [
    {
     "data": {
      "text/plain": [
       "Person(name='Anna', gender=None, height=1.5, country='france', weight=45.5, age=None)"
      ]
     },
     "execution_count": 12,
     "metadata": {},
     "output_type": "execute_result"
    }
   ],
   "source": [
    "person_001=Person(weight=45.5,\n",
    "                  height=1.5,\n",
    "                  country=\"france\",\n",
    "                  name=\"Anna\")\n",
    "person_001"
   ]
  },
  {
   "cell_type": "code",
   "execution_count": null,
   "id": "c76232b9",
   "metadata": {},
   "outputs": [],
   "source": [
    "def Function(a,b):\n",
    "    resultat=a+b\n",
    "    return resultat"
   ]
  },
  {
   "cell_type": "code",
   "execution_count": null,
   "id": "6e05c104",
   "metadata": {},
   "outputs": [],
   "source": [
    "def funct(a=Optional[float],b=Optional[int]):\n",
    "    return a**b"
   ]
  },
  {
   "cell_type": "code",
   "execution_count": null,
   "id": "4f9f9465",
   "metadata": {},
   "outputs": [],
   "source": [
    "def somme(lst=Optional[tuple|list]):\n",
    "    try:\n",
    "        addition=sum(lst)\n",
    "        return addition\n",
    "    except ValueError:\n",
    "        print(\"it can't be work with a string\")\n",
    "    else:\n",
    "        print(\"well done, you have done a great job\")\n",
    "    finally:\n",
    "        print(\"The program is closed\")"
   ]
  },
  {
   "cell_type": "code",
   "execution_count": null,
   "id": "807646de",
   "metadata": {},
   "outputs": [
    {
     "name": "stdout",
     "output_type": "stream",
     "text": [
      "The program is closed\n"
     ]
    },
    {
     "data": {
      "text/plain": [
       "25"
      ]
     },
     "execution_count": 32,
     "metadata": {},
     "output_type": "execute_result"
    }
   ],
   "source": [
    "lst=(4,5,6,6,4)\n",
    "\n",
    "somme(lst)"
   ]
  },
  {
   "cell_type": "code",
   "execution_count": null,
   "id": "0ed10a0e",
   "metadata": {},
   "outputs": [],
   "source": [
    "@dataclass\n",
    "class AIMSStudent:\n",
    "    \"\"\"Represents a student at AIMS centers across Africa\"\"\"\n",
    "    name: Optional[str]=None\n",
    "    country:  Optional[str]=None\n",
    "    program:  Optional[Literal[\"Regular Master\",\"Coop. Data Science\",\"Coop Cyber security\"]]=None\n",
    "    center:  Optional[str]=None\n",
    "    batch:  Optional[str]=None\n",
    "\n"
   ]
  },
  {
   "cell_type": "code",
   "execution_count": null,
   "id": "331dd78a",
   "metadata": {},
   "outputs": [
    {
     "data": {
      "text/plain": [
       "AIMSStudent(name='Tidiane Fall', country='The Gambia', program='Regular Master', center='AIMS Senegal', batch='2025')"
      ]
     },
     "execution_count": 35,
     "metadata": {},
     "output_type": "execute_result"
    }
   ],
   "source": [
    "aims_sen_001 = AIMSStudent(name=\"Tidiane Fall\", \n",
    "                           country=\"The Gambia\", \n",
    "                           program=\"Regular Master\",\n",
    "                           center= \"AIMS Senegal\",\n",
    "                           batch = \"2025\")\n",
    "aims_sen_001"
   ]
  },
  {
   "cell_type": "code",
   "execution_count": null,
   "id": "8417ef47",
   "metadata": {},
   "outputs": [
    {
     "data": {
      "text/plain": [
       "AIMSStudent(name='Ali Gassama', country='Burkina Faso', program=' COOP', center=' AIMS Rwanda', batch='2019')"
      ]
     },
     "execution_count": 36,
     "metadata": {},
     "output_type": "execute_result"
    }
   ],
   "source": [
    "aims_rw_001 =AIMSStudent(name=\"Ali Gassama\",\n",
    "                         country=\"Burkina Faso\",\n",
    "                         program=\" COOP\",\n",
    "                         center=\" AIMS Rwanda\",\n",
    "                         batch= \"2019\")\n",
    "\n",
    "aims_rw_001"
   ]
  },
  {
   "cell_type": "code",
   "execution_count": null,
   "id": "d9c812b7",
   "metadata": {},
   "outputs": [
    {
     "name": "stdout",
     "output_type": "stream",
     "text": [
      "Defaulting to user installation because normal site-packages is not writeable\n",
      "Collecting pydantic\n",
      "  Downloading pydantic-2.12.3-py3-none-any.whl (462 kB)\n",
      "\u001b[2K     \u001b[90m━━━━━━━━━━━━━━━━━━━━━━━━━━━━━━━━━━━━━━━\u001b[0m \u001b[32m462.4/462.4 KB\u001b[0m \u001b[31m1.6 MB/s\u001b[0m eta \u001b[36m0:00:00\u001b[0m00:01\u001b[0m00:01\u001b[0m\n",
      "\u001b[?25hCollecting typing-inspection>=0.4.2\n",
      "  Downloading typing_inspection-0.4.2-py3-none-any.whl (14 kB)\n",
      "Collecting annotated-types>=0.6.0\n",
      "  Downloading annotated_types-0.7.0-py3-none-any.whl (13 kB)\n",
      "Collecting typing-extensions>=4.14.1\n",
      "  Downloading typing_extensions-4.15.0-py3-none-any.whl (44 kB)\n",
      "\u001b[2K     \u001b[90m━━━━━━━━━━━━━━━━━━━━━━━━━━━━━━━━━━━━━━━\u001b[0m \u001b[32m44.6/44.6 KB\u001b[0m \u001b[31m821.6 kB/s\u001b[0m eta \u001b[36m0:00:00\u001b[0ma \u001b[36m0:00:01\u001b[0m\n",
      "\u001b[?25hCollecting pydantic-core==2.41.4\n",
      "  Downloading pydantic_core-2.41.4-cp310-cp310-manylinux_2_17_x86_64.manylinux2014_x86_64.whl (2.1 MB)\n",
      "\u001b[2K     \u001b[90m━━━━━━━━━━━━━━━━━━━━━━━━━━━━━━━━━━━━━━━━\u001b[0m \u001b[32m2.1/2.1 MB\u001b[0m \u001b[31m2.4 MB/s\u001b[0m eta \u001b[36m0:00:00\u001b[0m00:01\u001b[0m00:01\u001b[0mm\n",
      "\u001b[?25hInstalling collected packages: typing-extensions, annotated-types, typing-inspection, pydantic-core, pydantic\n",
      "Successfully installed annotated-types-0.7.0 pydantic-2.12.3 pydantic-core-2.41.4 typing-extensions-4.15.0 typing-inspection-0.4.2\n"
     ]
    }
   ],
   "source": [
    "!pip install pydantic"
   ]
  },
  {
   "cell_type": "code",
   "execution_count": null,
   "id": "c895dfa7",
   "metadata": {},
   "outputs": [
    {
     "ename": "ModuleNotFoundError",
     "evalue": "No module named 'pydantic'",
     "output_type": "error",
     "traceback": [
      "\u001b[0;31m---------------------------------------------------------------------------\u001b[0m",
      "\u001b[0;31mModuleNotFoundError\u001b[0m                       Traceback (most recent call last)",
      "\u001b[0;32m/tmp/ipykernel_9777/4235488796.py\u001b[0m in \u001b[0;36m<module>\u001b[0;34m\u001b[0m\n\u001b[0;32m----> 1\u001b[0;31m \u001b[0;32mfrom\u001b[0m \u001b[0mpydantic\u001b[0m \u001b[0;32mimport\u001b[0m \u001b[0mBaseModel\u001b[0m\u001b[0;34m\u001b[0m\u001b[0;34m\u001b[0m\u001b[0m\n\u001b[0m",
      "\u001b[0;31mModuleNotFoundError\u001b[0m: No module named 'pydantic'"
     ]
    }
   ],
   "source": [
    "from pydantic import BaseModel"
   ]
  },
  {
   "cell_type": "code",
   "execution_count": null,
   "id": "841ceb1c",
   "metadata": {},
   "outputs": [
    {
     "name": "stdout",
     "output_type": "stream",
     "text": [
      "Defaulting to user installation because normal site-packages is not writeable\n",
      "Requirement already satisfied: pydantic in /home/students-aimssn/.local/lib/python3.10/site-packages (2.12.3)\n",
      "Requirement already satisfied: annotated-types>=0.6.0 in /home/students-aimssn/.local/lib/python3.10/site-packages (from pydantic) (0.7.0)\n",
      "Requirement already satisfied: typing-extensions>=4.14.1 in /home/students-aimssn/.local/lib/python3.10/site-packages (from pydantic) (4.15.0)\n",
      "Requirement already satisfied: typing-inspection>=0.4.2 in /home/students-aimssn/.local/lib/python3.10/site-packages (from pydantic) (0.4.2)\n",
      "Requirement already satisfied: pydantic-core==2.41.4 in /home/students-aimssn/.local/lib/python3.10/site-packages (from pydantic) (2.41.4)\n",
      "Note: you may need to restart the kernel to use updated packages.\n"
     ]
    }
   ],
   "source": [
    "pip install pydantic"
   ]
  },
  {
   "cell_type": "code",
   "execution_count": null,
   "id": "e2d34016",
   "metadata": {},
   "outputs": [
    {
     "ename": "ModuleNotFoundError",
     "evalue": "No module named 'pydantic'",
     "output_type": "error",
     "traceback": [
      "\u001b[0;31m---------------------------------------------------------------------------\u001b[0m",
      "\u001b[0;31mModuleNotFoundError\u001b[0m                       Traceback (most recent call last)",
      "\u001b[0;32m/tmp/ipykernel_9777/4235488796.py\u001b[0m in \u001b[0;36m<module>\u001b[0;34m\u001b[0m\n\u001b[0;32m----> 1\u001b[0;31m \u001b[0;32mfrom\u001b[0m \u001b[0mpydantic\u001b[0m \u001b[0;32mimport\u001b[0m \u001b[0mBaseModel\u001b[0m\u001b[0;34m\u001b[0m\u001b[0;34m\u001b[0m\u001b[0m\n\u001b[0m",
      "\u001b[0;31mModuleNotFoundError\u001b[0m: No module named 'pydantic'"
     ]
    }
   ],
   "source": [
    "from pydantic import BaseModel"
   ]
  },
  {
   "cell_type": "code",
   "execution_count": null,
   "id": "08c3f1bd",
   "metadata": {},
   "outputs": [],
   "source": [
    "@dataclass\n",
    "class Book:\n",
    "    tittle: Optional[str]=None\n",
    "    author: Optional[str]=None\n",
    "    page:Optional[int]=None\n",
    "    year_of_realise:Optional[int]=None\n",
    "    country:Optional[str]=None"
   ]
  },
  {
   "cell_type": "code",
   "execution_count": null,
   "id": "e2fbbf29",
   "metadata": {},
   "outputs": [],
   "source": [
    "book_01=Book(tittle=\"Thing Fall Apart\", author=\"china Achebe\",country=\"Nigeria\",page=209,year_of_realise=1958)\n",
    "book_02=Book(tittle=\"Half of a Yellow Sun\", author=\"Chimanda Ngozy Adichie\", country=\"Nigeria\", page=443, year_of_realise=2006)\n",
    "book_03=Book(tittle=\"Nervous Conditions\", author=\"Tsitsi Dangarembga\", country=\"Zimbabwe\", page=204)\n",
    "\n",
    "African_books=[book_01,book_02,book_03]\n",
    "\n",
    "for book in African_books:\n",
    "    print(book) #affichage de ces trois livres"
   ]
  },
  {
   "cell_type": "markdown",
   "id": "6a292403",
   "metadata": {},
   "source": [
    "## Average number of page"
   ]
  },
  {
   "cell_type": "code",
   "execution_count": null,
   "id": "62a9daba",
   "metadata": {},
   "outputs": [],
   "source": [
    "total_page= sun(book.page for book in African_books)\n",
    "average_page=total_page/len(African_books)\n",
    "print(average_page)"
   ]
  },
  {
   "cell_type": "markdown",
   "id": "5db8e90c",
   "metadata": {},
   "source": [
    "## Print the oldest book"
   ]
  },
  {
   "cell_type": "code",
   "execution_count": null,
   "id": "0c7e5538",
   "metadata": {},
   "outputs": [],
   "source": [
    "oldest_book=min(book.year_of_realise for book in African_books)\n",
    "print(oldest_book)"
   ]
  }
 ],
 "metadata": {
  "kernelspec": {
   "display_name": "Python 3",
   "language": "python",
   "name": "python3"
  },
  "language_info": {
   "codemirror_mode": {
    "name": "ipython",
    "version": 3
   },
   "file_extension": ".py",
   "mimetype": "text/x-python",
   "name": "python",
   "nbconvert_exporter": "python",
   "pygments_lexer": "ipython3",
   "version": "3.10.12"
  }
 },
 "nbformat": 4,
 "nbformat_minor": 5
}
